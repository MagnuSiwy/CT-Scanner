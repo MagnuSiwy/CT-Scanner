{
 "cells": [
  {
   "cell_type": "markdown",
   "metadata": {},
   "source": [
    "# Symulator Tomografu\n",
    "**Autor: Kacper Magnuszewski**\n",
    "\n",
    "Projekt wykorzystuje on interaktywny Jupyter Notebook. Ma on przedstawić działanie tomografu komputerowego. Polega to na badaniu prześwietlaniu za pomocą promieni rentgenowskich w celu uzyskania pełnego obrazu przekroju danego obiektu. Zaprojektowany model symulatora tomografu korzysta z geometri stożkowej - przy każdym prześwietleniu badany jest przekrój obiektu 1D przy użyciu jednego emitera i wielu detektorów. Zestaw emitera i detektorów obraca się wokół obiektu, aby stworzyć sinogram, a następnie go zinterpretować i odtworzyć wejściowy obraz. Możliwe jest wybranie opcji filtrowania sinogramu, co pozwoli na ograniczenie powstałych przy rekonstrukcji zakłóceń."
   ]
  },
  {
   "cell_type": "markdown",
   "metadata": {},
   "source": [
    "### Wykorzystane narzędzia\n",
    "Do stworzenia projektu wykorzystany został język programowania Python oraz wymienione poniżej biblioteki. Ich funkcje w programie to:\n",
    " - numpy - Wykorzystane do obliczeń\n",
    " - matplotlib - Drukowanie obrazu wejściowego i wyjściowego oraz sinogramu\n",
    " - cv2 - Interpretacja i przetwarzanie obrazu\n",
    " - ipywidgets - Dodanie interaktywnych suwaków i przycisków\n",
    " - IPython - Czyszczenie wyników drukowanych przez komórki\n",
    " - pydicom - Zapisanie obrazu wyjściowego w formacie dicom\n",
    " - datetime - Dodanie daty do pliku dicom"
   ]
  },
  {
   "cell_type": "code",
   "execution_count": 289,
   "metadata": {},
   "outputs": [],
   "source": [
    "import numpy as np\n",
    "import matplotlib.pyplot as plt\n",
    "import cv2\n",
    "\n",
    "from ipywidgets import interact\n",
    "from IPython.display import clear_output\n",
    "\n",
    "from pydicom.dataset import Dataset, FileDataset\n",
    "from datetime import datetime"
   ]
  },
  {
   "cell_type": "markdown",
   "metadata": {},
   "source": [
    "Wczytanie obrazu i jego przetworzenie / przygotowanie do użycia w programie"
   ]
  },
  {
   "cell_type": "code",
   "execution_count": 290,
   "metadata": {},
   "outputs": [],
   "source": [
    "IMAGE = \"przykladowe_skany/Shepp_logan.jpg\"\n",
    "\n",
    "# Read, set the size and normalize the image\n",
    "image = cv2.imread(IMAGE)\n",
    "imageSize = max(image.shape[:2])\n",
    "radius = imageSize // 2\n",
    "image = cv2.resize(image, (imageSize, imageSize))\n",
    "image = image / 255.0\n",
    "center = [imageSize // 2, imageSize // 2] # [x, y]"
   ]
  },
  {
   "cell_type": "markdown",
   "metadata": {},
   "source": [
    "### Wykorzystane funkcje\n",
    "\n",
    "Funkcje **_emitterPosition()_** oraz **_detectorPosition()_** służą do obliczenia pozycji emitera i detektorów przy danych obrocie **_ALPHA_**."
   ]
  },
  {
   "cell_type": "code",
   "execution_count": 291,
   "metadata": {},
   "outputs": [],
   "source": [
    "def emitterPosition(center:tuple, radius:int, angle:int):\n",
    "    \"\"\"Returns the emitter position\\n\n",
    "    x - previous x value\\n\n",
    "    y - previous y value\\n\n",
    "    radius - radius of the circle (pixels) on which the emitters and detectors move\\n\n",
    "    angle - the angle (in degrees) by which the position of the emitter changes\"\"\"\n",
    "    angleRadians = np.radians(angle)\n",
    "\n",
    "    newX = center[0] + radius * np.cos(angleRadians)\n",
    "    newY = center[0] + radius * np.sin(angleRadians)\n",
    "\n",
    "    return (round(newX), round(newY))\n",
    "\n",
    "\n",
    "def detectorPositions(center:tuple, radius:int, angle:int, detectorsRange:int, detectorsNum:int):\n",
    "    \"\"\"Returns a list of detectors' position\\n\n",
    "    emitterPosition - a tuple with x and y position of the emitter\\n\n",
    "    radius - radius of the circle (pixels) on which the emitters and detectors move\\n\n",
    "    angle - the angle (in degrees) by which the position of the emitter changes\\n\n",
    "    detectorsRange - the range of the detectors (in degreed) on which the detectors can be placed\\n\n",
    "    detectorsNum - the number of detectors used in the CT scan\"\"\"\n",
    "    translation = np.radians((360 - detectorsRange) // 2)\n",
    "    angleRadians = np.radians(angle)\n",
    "    distBtwnDet = np.radians(detectorsRange / detectorsNum)\n",
    "\n",
    "    detectors = []\n",
    "\n",
    "    for i in range(detectorsNum):\n",
    "        newX = center[0] + radius * np.cos(angleRadians + translation + i * distBtwnDet)\n",
    "        newY = center[0] + radius * np.sin(angleRadians + translation + i * distBtwnDet)\n",
    "        detectors.append((round(newX), round(newY)))\n",
    "\n",
    "    return detectors\n"
   ]
  },
  {
   "cell_type": "markdown",
   "metadata": {},
   "source": [
    "Funkcja **_bresenham()_** zwraca punkty, które tworzą linię biegnącą od emitera do detektora.\n",
    "\n",
    "Funkcja **_singleScan()_** zwraca linie, biegnące od emitera do wszystkich z detektorów."
   ]
  },
  {
   "cell_type": "code",
   "execution_count": 292,
   "metadata": {},
   "outputs": [],
   "source": [
    "def bresenham(x0:int, y0:int, x1:int, y1:int):\n",
    "    \"\"\"Returns the positions of the pixels from a point (x0, y0) to a point (x1, y1)\"\"\"\n",
    "    dx = abs(x1 - x0)\n",
    "    sx = 1 if x0 < x1 else -1\n",
    "    dy = abs(y1 - y0)\n",
    "    sy = 1 if y0 < y1 else -1\n",
    "    error = dx - dy\n",
    "    line = []\n",
    "\n",
    "    while x0 != x1 or y0 != y1:\n",
    "        line.append((x0, y0))\n",
    "\n",
    "        e2 = 2 * error\n",
    "        if e2 >= -dy:\n",
    "            if x0 == x1: break\n",
    "            error -= dy\n",
    "            x0 += sx\n",
    "        if e2 <= dx:\n",
    "            if y0 == y1: break\n",
    "            error += dx\n",
    "            y0 += sy\n",
    "    \n",
    "    return line\n",
    "\n",
    "\n",
    "def singleScan(radius:int, detectorsRange:int, detectorsNum:int, alpha:int):\n",
    "    \"\"\"Perform a single scan of the image. Get the emitter and detectors' positions and return the value of the line from the emitter to each detector.\"\"\"\n",
    "    lines = []\n",
    "    emitter = emitterPosition(center, radius, alpha)\n",
    "    detectors = detectorPositions(center, radius, alpha, detectorsRange, detectorsNum)\n",
    "\n",
    "    for i in range(len(detectors)):\n",
    "        lines.append(bresenham(emitter[0], emitter[1], detectors[i][0], detectors[i][1]))\n",
    "\n",
    "    return lines"
   ]
  },
  {
   "cell_type": "markdown",
   "metadata": {},
   "source": [
    "Funkcja **_radonTransform()_** sumuje wartości liczbowe wszystkich punktów należących do danej linii, zamieszcza je w liście, którą po przetworzeniu wszystkich linii zwraca.\n",
    "\n",
    "Funkcja **_backprojection()_** to odwrotna transformata radona, która uzupełnia obraz wyjściowy o odpowiednie wartości pobrane z sinogramu.\n",
    "\n",
    "Funkcja **_filterSinogram()_** służy do filtracji sinogramu w celu usunięcia zakłóceń postałych przy tworzeniu obrazu wyjściowego."
   ]
  },
  {
   "cell_type": "code",
   "execution_count": 293,
   "metadata": {},
   "outputs": [],
   "source": [
    "def radonTransform(image, imageSize:int, lines:list):\n",
    "    \"\"\"Sums up all of the numerical values of pixels on the image that are contained in the line\"\"\"\n",
    "    lineValues = []\n",
    "    for line in lines:\n",
    "            sum = 0\n",
    "            for point in line:\n",
    "                x, y = point\n",
    "                if 0 <= x < imageSize and 0 <= y < imageSize:\n",
    "                    sum += image[y][x].mean()\n",
    "            lineValues.append(sum)\n",
    "    return lineValues\n",
    "\n",
    "\n",
    "def backprojection(sinogram, imageSize:int, lines:list, iteration:int):\n",
    "    outputImage = np.zeros((imageSize, imageSize))\n",
    "\n",
    "    for detector, line in enumerate(lines):\n",
    "        for point in line:\n",
    "            x, y = point\n",
    "            if 0 <= x < imageSize and 0 <= y < imageSize:\n",
    "                outputImage[y, x] += sinogram[detector, iteration]\n",
    "    \n",
    "    return outputImage\n",
    "\n",
    "\n",
    "def filterSinogram(sinogram):\n",
    "    n = sinogram.shape[0]\n",
    "    filter = 2 * np.abs(np.fft.fftfreq(n, 1.0).reshape(-1, 1))\n",
    "    result = np.fft.ifft(np.fft.fft(sinogram, axis = 0) * filter, axis = 0)\n",
    "    result = np.clip(np.real(result), 0, 1)\n",
    "    return result"
   ]
  },
  {
   "cell_type": "markdown",
   "metadata": {},
   "source": [
    "Funkcja **_createPlot()_** służy do wydrukowania obrazu wejściowego, sinogramu oraz obrazu wyjściowego."
   ]
  },
  {
   "cell_type": "code",
   "execution_count": 294,
   "metadata": {},
   "outputs": [],
   "source": [
    "def createPlot(image, sinogram, outputImage):\n",
    "    fig, axs = plt.subplots(1, 3)\n",
    "    axs[0].imshow(image)\n",
    "    axs[1].imshow(sinogram, cmap = 'gray')\n",
    "    axs[2].imshow(outputImage, cmap = 'gray')"
   ]
  },
  {
   "cell_type": "code",
   "execution_count": 295,
   "metadata": {},
   "outputs": [],
   "source": [
    "def saveDicom(image, fileName, imageSize):\n",
    "    meta = Dataset()\n",
    "    meta.MediaStorageSOPClassUID = '1.2.840.10008.5.1.4.1.1.2'\n",
    "    meta.MediaStorageSOPInstanceUID = \"1.2.3\"\n",
    "    meta.ImplementationClassUID = \"1.2.3.4\"\n",
    "    meta.TransferSyntaxUID = '1.2.840.10008.1.2'\n",
    "    \n",
    "    ds = FileDataset(fileName, {}, file_meta=meta, preamble=b\"\\0\" * 128)\n",
    "    ds.SamplesPerPixel = 1\n",
    "    ds.PhotometricInterpretation = 'MONOCHROME2'\n",
    "    ds.Rows, ds.Columns = imageSize, imageSize\n",
    "    ds.BitsAllocated = 16\n",
    "    ds.BitsStored = 16\n",
    "    ds.PixelRepresentation = 0\n",
    "    \n",
    "    image = (image * (2**16 - 1)).astype(np.uint16)\n",
    "    ds.PixelData = image.tobytes()\n",
    "    \n",
    "    ds.PatientName = \"Anonimowy\"\n",
    "    ds.PatientID = \"151746\"\n",
    "    ds.PatientBirthDate = \"20021203\"\n",
    "    ds.PatientSex = \"M\"\n",
    "    ds.StudyDate = datetime.now().strftime('%Y%m%d')\n",
    "    ds.StudyTime = datetime.now().strftime('%H%M%S')\n",
    "    ds.Modality = \"CT\"\n",
    "    ds.Manufacturer = \"Kacper Magnuszewski\"\n",
    "    \n",
    "    ds.save_as(fileName, write_like_original=False)"
   ]
  },
  {
   "cell_type": "markdown",
   "metadata": {},
   "source": [
    "Finkcja **_ctScan()_** wykonuje pełen skan i przetwarza obraz wejściowy stosując podane parametry obrotu emitera i detektorów w każdej iteracji oraz drukuje obraz wyjściowy zgodnie z podanymi kryteriami (czy obraz ma być przefiltrowany oraz czy program ma pokazać każdą z iteracji)."
   ]
  },
  {
   "cell_type": "code",
   "execution_count": 296,
   "metadata": {},
   "outputs": [],
   "source": [
    "def ctScan(image, imageSize, alpha, radius, detectorsNum, detectorsRange, showIterations, filter):\n",
    "    iterations = round(360 // alpha)\n",
    "    sinogram = np.zeros((detectorsNum, iterations), dtype = np.float32)\n",
    "    outputImage = np.zeros((imageSize, imageSize), dtype = np.float32)\n",
    "\n",
    "    for i in range(iterations):\n",
    "        lines = singleScan(radius, detectorsRange, detectorsNum, i * alpha)\n",
    "        sinogram[:, i] = radonTransform(image, imageSize, lines)\n",
    "        outputImage += backprojection(filterSinogram(sinogram) if filter else sinogram, imageSize, lines, i)\n",
    "\n",
    "        if showIterations or i == iterations - 1:\n",
    "            clear_output(wait = True)\n",
    "            createPlot(image, sinogram, outputImage)\n",
    "            plt.show()\n",
    "\n",
    "    outputImage = (outputImage - np.min(outputImage)) / (np.max(outputImage) - np.min(outputImage))\n",
    "\n",
    "    saveDicom(outputImage, \"test.dcm\", imageSize)"
   ]
  },
  {
   "cell_type": "markdown",
   "metadata": {},
   "source": [
    "### Porównanie obrazów filtrowanych i bez filtracji\n",
    "\n",
    "Obrazy filtrowane są ostrzejsze, wyraźniejsze i dużo bardziej przypominają oryginał. Na obrazie bez filtracji widać wiele artefaktów, które sprawiają, że jest on rozmazany. Większość fragmentów badanego obiektu jest widoczna, jednak szczegóły są ciężkie do rozpoznania.\n",
    "\n",
    "---\n",
    "\n",
    "Obraz niefiltrowany:\n",
    "\n",
    "![title](NoFilter.png)\n",
    "\n",
    "Obraz przefiltrowany:\n",
    "\n",
    "![title](Filtered.png)\n",
    "\n",
    "---\n",
    "\n",
    "Aby uruchomić program należy wykonać wszystkie komórki, wybrać opcje suwakami oraz okienkami \"_checkbox_\", które pojawią się na samym dole dokumentu po czym kliknąć pole **_START_**."
   ]
  },
  {
   "cell_type": "code",
   "execution_count": 297,
   "metadata": {},
   "outputs": [
    {
     "data": {
      "application/vnd.jupyter.widget-view+json": {
       "model_id": "db45116e87a3456da6dff05ad7fe860b",
       "version_major": 2,
       "version_minor": 0
      },
      "text/plain": [
       "interactive(children=(FloatSlider(value=2.0, description='ALPHA', max=4.0, min=0.5, step=0.25), IntSlider(valu…"
      ]
     },
     "metadata": {},
     "output_type": "display_data"
    }
   ],
   "source": [
    "@interact(ALPHA = (0.5, 4, 0.25), DETECTORS_NUM = (90, 720, 90), RANGE = (45, 270, 45), SHOW_ITERATIONS = False, FILTER = False, START = False)\n",
    "def main(ALPHA = 2, DETECTORS_NUM = 180, RANGE = 180, SHOW_ITERATIONS = False, FILTER = False, START = False):\n",
    "    if START:\n",
    "        ctScan(image, imageSize, ALPHA, radius, DETECTORS_NUM, RANGE, SHOW_ITERATIONS, FILTER)\n",
    "        START = False"
   ]
  }
 ],
 "metadata": {
  "kernelspec": {
   "display_name": "Python 3",
   "language": "python",
   "name": "python3"
  },
  "language_info": {
   "codemirror_mode": {
    "name": "ipython",
    "version": 3
   },
   "file_extension": ".py",
   "mimetype": "text/x-python",
   "name": "python",
   "nbconvert_exporter": "python",
   "pygments_lexer": "ipython3",
   "version": "3.11.8"
  }
 },
 "nbformat": 4,
 "nbformat_minor": 2
}
